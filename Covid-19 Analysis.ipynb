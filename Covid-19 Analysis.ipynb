{
 "cells": [
  {
   "cell_type": "code",
   "execution_count": 1,
   "metadata": {},
   "outputs": [],
   "source": [
    "# Importing necessities\n",
    "import pandas as pd\n",
    "import numpy as np\n",
    "import matplotlib.pyplot as plt\n",
    "import seaborn as sns\n"
   ]
  },
  {
   "cell_type": "code",
   "execution_count": 2,
   "metadata": {},
   "outputs": [],
   "source": [
    "%matplotlib inline"
   ]
  },
  {
   "cell_type": "markdown",
   "metadata": {},
   "source": [
    "# Dataset details\n",
    "* COVID-19 cases at daily level is present in covid_19_india.csv file\n",
    "\n",
    "* Individual level details are present in IndividualDetails.csv file and is obtained from this link\n",
    "\n",
    "* Population at state level is present in population_india_census2011.csv file\n",
    "\n",
    "* Number of COVID-19 tests at daily level in ICMRTestingDetails.csv file\n",
    "\n",
    "* Number of hospital beds in each state in present in HospitalBedsIndia.csv file and is extracted from this link\n",
    "\n",
    "* Travel history dataset by @dheerajmpai - https://www.kaggle.com/dheerajmpai/covidindiatravelhistory"
   ]
  },
  {
   "cell_type": "code",
   "execution_count": 3,
   "metadata": {},
   "outputs": [
    {
     "data": {
      "text/html": [
       "<div>\n",
       "<style scoped>\n",
       "    .dataframe tbody tr th:only-of-type {\n",
       "        vertical-align: middle;\n",
       "    }\n",
       "\n",
       "    .dataframe tbody tr th {\n",
       "        vertical-align: top;\n",
       "    }\n",
       "\n",
       "    .dataframe thead th {\n",
       "        text-align: right;\n",
       "    }\n",
       "</style>\n",
       "<table border=\"1\" class=\"dataframe\">\n",
       "  <thead>\n",
       "    <tr style=\"text-align: right;\">\n",
       "      <th></th>\n",
       "      <th>lab</th>\n",
       "      <th>address</th>\n",
       "      <th>pincode</th>\n",
       "      <th>city</th>\n",
       "      <th>state</th>\n",
       "      <th>type</th>\n",
       "    </tr>\n",
       "  </thead>\n",
       "  <tbody>\n",
       "    <tr>\n",
       "      <th>0</th>\n",
       "      <td>ICMR-Regional Medical Research Centre, Port Blair</td>\n",
       "      <td>ICMR-Regional Medical Research Centre, Post Ba...</td>\n",
       "      <td>744103</td>\n",
       "      <td>Port Blair</td>\n",
       "      <td>Andaman and Nicobar Islands</td>\n",
       "      <td>Government Laboratory</td>\n",
       "    </tr>\n",
       "    <tr>\n",
       "      <th>1</th>\n",
       "      <td>Tomo Riba Institute of Health &amp; Medical Scienc...</td>\n",
       "      <td>National Highway 52A, Old Assembly Complex, Na...</td>\n",
       "      <td>791110</td>\n",
       "      <td>Naharlagun</td>\n",
       "      <td>Arunachal Pradesh</td>\n",
       "      <td>Collection Site</td>\n",
       "    </tr>\n",
       "    <tr>\n",
       "      <th>2</th>\n",
       "      <td>Sri Venkateswara Institute of Medical Sciences...</td>\n",
       "      <td>Sri Venkateswara Institute of Medical Sciences...</td>\n",
       "      <td>517507</td>\n",
       "      <td>Tirupati</td>\n",
       "      <td>Andhra Pradesh</td>\n",
       "      <td>Government Laboratory</td>\n",
       "    </tr>\n",
       "    <tr>\n",
       "      <th>3</th>\n",
       "      <td>Rangaraya Medical College, Kakinada</td>\n",
       "      <td>Rangaraya Medical College, Kakinada Pithampura...</td>\n",
       "      <td>533001</td>\n",
       "      <td>Kakinada</td>\n",
       "      <td>Andhra Pradesh</td>\n",
       "      <td>Government Laboratory</td>\n",
       "    </tr>\n",
       "    <tr>\n",
       "      <th>4</th>\n",
       "      <td>Sidhartha Medical College, Vijaywada</td>\n",
       "      <td>Siddhartha Medical College, Vijayawada NH 16 S...</td>\n",
       "      <td>520008</td>\n",
       "      <td>Vijayawada</td>\n",
       "      <td>Andhra Pradesh</td>\n",
       "      <td>Government Laboratory</td>\n",
       "    </tr>\n",
       "  </tbody>\n",
       "</table>\n",
       "</div>"
      ],
      "text/plain": [
       "                                                 lab  \\\n",
       "0  ICMR-Regional Medical Research Centre, Port Blair   \n",
       "1  Tomo Riba Institute of Health & Medical Scienc...   \n",
       "2  Sri Venkateswara Institute of Medical Sciences...   \n",
       "3                Rangaraya Medical College, Kakinada   \n",
       "4               Sidhartha Medical College, Vijaywada   \n",
       "\n",
       "                                             address  pincode        city  \\\n",
       "0  ICMR-Regional Medical Research Centre, Post Ba...   744103  Port Blair   \n",
       "1  National Highway 52A, Old Assembly Complex, Na...   791110  Naharlagun   \n",
       "2  Sri Venkateswara Institute of Medical Sciences...   517507    Tirupati   \n",
       "3  Rangaraya Medical College, Kakinada Pithampura...   533001    Kakinada   \n",
       "4  Siddhartha Medical College, Vijayawada NH 16 S...   520008  Vijayawada   \n",
       "\n",
       "                         state                   type  \n",
       "0  Andaman and Nicobar Islands  Government Laboratory  \n",
       "1            Arunachal Pradesh        Collection Site  \n",
       "2               Andhra Pradesh  Government Laboratory  \n",
       "3               Andhra Pradesh  Government Laboratory  \n",
       "4               Andhra Pradesh  Government Laboratory  "
      ]
     },
     "execution_count": 3,
     "metadata": {},
     "output_type": "execute_result"
    }
   ],
   "source": [
    "tests = pd.read_csv(\"data/ICMRTestingLabs.csv\")\n",
    "tests.head()"
   ]
  },
  {
   "cell_type": "code",
   "execution_count": 4,
   "metadata": {},
   "outputs": [
    {
     "data": {
      "text/plain": [
       "lab        object\n",
       "address    object\n",
       "pincode     int64\n",
       "city       object\n",
       "state      object\n",
       "type       object\n",
       "dtype: object"
      ]
     },
     "execution_count": 4,
     "metadata": {},
     "output_type": "execute_result"
    }
   ],
   "source": [
    "tests.dtypes"
   ]
  },
  {
   "cell_type": "code",
   "execution_count": 5,
   "metadata": {},
   "outputs": [
    {
     "data": {
      "text/plain": [
       "267"
      ]
     },
     "execution_count": 5,
     "metadata": {},
     "output_type": "execute_result"
    }
   ],
   "source": [
    "len(tests)"
   ]
  },
  {
   "cell_type": "code",
   "execution_count": 6,
   "metadata": {},
   "outputs": [
    {
     "data": {
      "text/html": [
       "<div>\n",
       "<style scoped>\n",
       "    .dataframe tbody tr th:only-of-type {\n",
       "        vertical-align: middle;\n",
       "    }\n",
       "\n",
       "    .dataframe tbody tr th {\n",
       "        vertical-align: top;\n",
       "    }\n",
       "\n",
       "    .dataframe thead th {\n",
       "        text-align: right;\n",
       "    }\n",
       "</style>\n",
       "<table border=\"1\" class=\"dataframe\">\n",
       "  <thead>\n",
       "    <tr style=\"text-align: right;\">\n",
       "      <th></th>\n",
       "      <th>Sno</th>\n",
       "      <th>Date</th>\n",
       "      <th>Time</th>\n",
       "      <th>State/UnionTerritory</th>\n",
       "      <th>ConfirmedIndianNational</th>\n",
       "      <th>ConfirmedForeignNational</th>\n",
       "      <th>Cured</th>\n",
       "      <th>Deaths</th>\n",
       "      <th>Confirmed</th>\n",
       "    </tr>\n",
       "  </thead>\n",
       "  <tbody>\n",
       "    <tr>\n",
       "      <th>0</th>\n",
       "      <td>1</td>\n",
       "      <td>30/01/20</td>\n",
       "      <td>6:00 PM</td>\n",
       "      <td>Kerala</td>\n",
       "      <td>1</td>\n",
       "      <td>0</td>\n",
       "      <td>0</td>\n",
       "      <td>0</td>\n",
       "      <td>1</td>\n",
       "    </tr>\n",
       "    <tr>\n",
       "      <th>1</th>\n",
       "      <td>2</td>\n",
       "      <td>31/01/20</td>\n",
       "      <td>6:00 PM</td>\n",
       "      <td>Kerala</td>\n",
       "      <td>1</td>\n",
       "      <td>0</td>\n",
       "      <td>0</td>\n",
       "      <td>0</td>\n",
       "      <td>1</td>\n",
       "    </tr>\n",
       "    <tr>\n",
       "      <th>2</th>\n",
       "      <td>3</td>\n",
       "      <td>01/02/20</td>\n",
       "      <td>6:00 PM</td>\n",
       "      <td>Kerala</td>\n",
       "      <td>2</td>\n",
       "      <td>0</td>\n",
       "      <td>0</td>\n",
       "      <td>0</td>\n",
       "      <td>2</td>\n",
       "    </tr>\n",
       "    <tr>\n",
       "      <th>3</th>\n",
       "      <td>4</td>\n",
       "      <td>02/02/20</td>\n",
       "      <td>6:00 PM</td>\n",
       "      <td>Kerala</td>\n",
       "      <td>3</td>\n",
       "      <td>0</td>\n",
       "      <td>0</td>\n",
       "      <td>0</td>\n",
       "      <td>3</td>\n",
       "    </tr>\n",
       "    <tr>\n",
       "      <th>4</th>\n",
       "      <td>5</td>\n",
       "      <td>03/02/20</td>\n",
       "      <td>6:00 PM</td>\n",
       "      <td>Kerala</td>\n",
       "      <td>3</td>\n",
       "      <td>0</td>\n",
       "      <td>0</td>\n",
       "      <td>0</td>\n",
       "      <td>3</td>\n",
       "    </tr>\n",
       "  </tbody>\n",
       "</table>\n",
       "</div>"
      ],
      "text/plain": [
       "   Sno      Date     Time State/UnionTerritory ConfirmedIndianNational  \\\n",
       "0    1  30/01/20  6:00 PM               Kerala                       1   \n",
       "1    2  31/01/20  6:00 PM               Kerala                       1   \n",
       "2    3  01/02/20  6:00 PM               Kerala                       2   \n",
       "3    4  02/02/20  6:00 PM               Kerala                       3   \n",
       "4    5  03/02/20  6:00 PM               Kerala                       3   \n",
       "\n",
       "  ConfirmedForeignNational  Cured  Deaths  Confirmed  \n",
       "0                        0      0       0          1  \n",
       "1                        0      0       0          1  \n",
       "2                        0      0       0          2  \n",
       "3                        0      0       0          3  \n",
       "4                        0      0       0          3  "
      ]
     },
     "execution_count": 6,
     "metadata": {},
     "output_type": "execute_result"
    }
   ],
   "source": [
    "cases = pd.read_csv(\"data/covid_19_india.csv\")\n",
    "cases.head()"
   ]
  },
  {
   "cell_type": "code",
   "execution_count": 7,
   "metadata": {},
   "outputs": [
    {
     "data": {
      "text/plain": [
       "2774"
      ]
     },
     "execution_count": 7,
     "metadata": {},
     "output_type": "execute_result"
    }
   ],
   "source": [
    "len(cases)"
   ]
  },
  {
   "cell_type": "code",
   "execution_count": 8,
   "metadata": {},
   "outputs": [
    {
     "data": {
      "text/html": [
       "<div>\n",
       "<style scoped>\n",
       "    .dataframe tbody tr th:only-of-type {\n",
       "        vertical-align: middle;\n",
       "    }\n",
       "\n",
       "    .dataframe tbody tr th {\n",
       "        vertical-align: top;\n",
       "    }\n",
       "\n",
       "    .dataframe thead th {\n",
       "        text-align: right;\n",
       "    }\n",
       "</style>\n",
       "<table border=\"1\" class=\"dataframe\">\n",
       "  <thead>\n",
       "    <tr style=\"text-align: right;\">\n",
       "      <th></th>\n",
       "      <th>Sno</th>\n",
       "      <th>Date</th>\n",
       "      <th>Time</th>\n",
       "      <th>State/UnionTerritory</th>\n",
       "      <th>ConfirmedIndianNational</th>\n",
       "      <th>ConfirmedForeignNational</th>\n",
       "      <th>Cured</th>\n",
       "      <th>Deaths</th>\n",
       "      <th>Confirmed</th>\n",
       "    </tr>\n",
       "  </thead>\n",
       "  <tbody>\n",
       "    <tr>\n",
       "      <th>2754</th>\n",
       "      <td>2755</td>\n",
       "      <td>07/06/20</td>\n",
       "      <td>8:00 AM</td>\n",
       "      <td>Kerala</td>\n",
       "      <td>-</td>\n",
       "      <td>-</td>\n",
       "      <td>762</td>\n",
       "      <td>15</td>\n",
       "      <td>1807</td>\n",
       "    </tr>\n",
       "    <tr>\n",
       "      <th>2755</th>\n",
       "      <td>2756</td>\n",
       "      <td>07/06/20</td>\n",
       "      <td>8:00 AM</td>\n",
       "      <td>Ladakh</td>\n",
       "      <td>-</td>\n",
       "      <td>-</td>\n",
       "      <td>48</td>\n",
       "      <td>1</td>\n",
       "      <td>99</td>\n",
       "    </tr>\n",
       "    <tr>\n",
       "      <th>2756</th>\n",
       "      <td>2757</td>\n",
       "      <td>07/06/20</td>\n",
       "      <td>8:00 AM</td>\n",
       "      <td>Madhya Pradesh</td>\n",
       "      <td>-</td>\n",
       "      <td>-</td>\n",
       "      <td>6108</td>\n",
       "      <td>399</td>\n",
       "      <td>9228</td>\n",
       "    </tr>\n",
       "    <tr>\n",
       "      <th>2757</th>\n",
       "      <td>2758</td>\n",
       "      <td>07/06/20</td>\n",
       "      <td>8:00 AM</td>\n",
       "      <td>Maharashtra</td>\n",
       "      <td>-</td>\n",
       "      <td>-</td>\n",
       "      <td>37390</td>\n",
       "      <td>2969</td>\n",
       "      <td>82968</td>\n",
       "    </tr>\n",
       "    <tr>\n",
       "      <th>2758</th>\n",
       "      <td>2759</td>\n",
       "      <td>07/06/20</td>\n",
       "      <td>8:00 AM</td>\n",
       "      <td>Manipur</td>\n",
       "      <td>-</td>\n",
       "      <td>-</td>\n",
       "      <td>52</td>\n",
       "      <td>0</td>\n",
       "      <td>157</td>\n",
       "    </tr>\n",
       "    <tr>\n",
       "      <th>2759</th>\n",
       "      <td>2760</td>\n",
       "      <td>07/06/20</td>\n",
       "      <td>8:00 AM</td>\n",
       "      <td>Meghalaya</td>\n",
       "      <td>-</td>\n",
       "      <td>-</td>\n",
       "      <td>13</td>\n",
       "      <td>1</td>\n",
       "      <td>33</td>\n",
       "    </tr>\n",
       "    <tr>\n",
       "      <th>2760</th>\n",
       "      <td>2761</td>\n",
       "      <td>07/06/20</td>\n",
       "      <td>8:00 AM</td>\n",
       "      <td>Mizoram</td>\n",
       "      <td>-</td>\n",
       "      <td>-</td>\n",
       "      <td>1</td>\n",
       "      <td>0</td>\n",
       "      <td>24</td>\n",
       "    </tr>\n",
       "    <tr>\n",
       "      <th>2761</th>\n",
       "      <td>2762</td>\n",
       "      <td>07/06/20</td>\n",
       "      <td>8:00 AM</td>\n",
       "      <td>Nagaland</td>\n",
       "      <td>-</td>\n",
       "      <td>-</td>\n",
       "      <td>0</td>\n",
       "      <td>0</td>\n",
       "      <td>107</td>\n",
       "    </tr>\n",
       "    <tr>\n",
       "      <th>2762</th>\n",
       "      <td>2763</td>\n",
       "      <td>07/06/20</td>\n",
       "      <td>8:00 AM</td>\n",
       "      <td>Odisha</td>\n",
       "      <td>-</td>\n",
       "      <td>-</td>\n",
       "      <td>1716</td>\n",
       "      <td>8</td>\n",
       "      <td>2781</td>\n",
       "    </tr>\n",
       "    <tr>\n",
       "      <th>2763</th>\n",
       "      <td>2764</td>\n",
       "      <td>07/06/20</td>\n",
       "      <td>8:00 AM</td>\n",
       "      <td>Puducherry</td>\n",
       "      <td>-</td>\n",
       "      <td>-</td>\n",
       "      <td>36</td>\n",
       "      <td>0</td>\n",
       "      <td>99</td>\n",
       "    </tr>\n",
       "    <tr>\n",
       "      <th>2764</th>\n",
       "      <td>2765</td>\n",
       "      <td>07/06/20</td>\n",
       "      <td>8:00 AM</td>\n",
       "      <td>Punjab</td>\n",
       "      <td>-</td>\n",
       "      <td>-</td>\n",
       "      <td>2092</td>\n",
       "      <td>50</td>\n",
       "      <td>2515</td>\n",
       "    </tr>\n",
       "    <tr>\n",
       "      <th>2765</th>\n",
       "      <td>2766</td>\n",
       "      <td>07/06/20</td>\n",
       "      <td>8:00 AM</td>\n",
       "      <td>Rajasthan</td>\n",
       "      <td>-</td>\n",
       "      <td>-</td>\n",
       "      <td>7501</td>\n",
       "      <td>231</td>\n",
       "      <td>10331</td>\n",
       "    </tr>\n",
       "    <tr>\n",
       "      <th>2766</th>\n",
       "      <td>2767</td>\n",
       "      <td>07/06/20</td>\n",
       "      <td>8:00 AM</td>\n",
       "      <td>Sikkim</td>\n",
       "      <td>-</td>\n",
       "      <td>-</td>\n",
       "      <td>0</td>\n",
       "      <td>0</td>\n",
       "      <td>7</td>\n",
       "    </tr>\n",
       "    <tr>\n",
       "      <th>2767</th>\n",
       "      <td>2768</td>\n",
       "      <td>07/06/20</td>\n",
       "      <td>8:00 AM</td>\n",
       "      <td>Tamil Nadu</td>\n",
       "      <td>-</td>\n",
       "      <td>-</td>\n",
       "      <td>16395</td>\n",
       "      <td>251</td>\n",
       "      <td>30152</td>\n",
       "    </tr>\n",
       "    <tr>\n",
       "      <th>2768</th>\n",
       "      <td>2769</td>\n",
       "      <td>07/06/20</td>\n",
       "      <td>8:00 AM</td>\n",
       "      <td>Telengana</td>\n",
       "      <td>-</td>\n",
       "      <td>-</td>\n",
       "      <td>1710</td>\n",
       "      <td>123</td>\n",
       "      <td>3496</td>\n",
       "    </tr>\n",
       "    <tr>\n",
       "      <th>2769</th>\n",
       "      <td>2770</td>\n",
       "      <td>07/06/20</td>\n",
       "      <td>8:00 AM</td>\n",
       "      <td>Tripura</td>\n",
       "      <td>-</td>\n",
       "      <td>-</td>\n",
       "      <td>173</td>\n",
       "      <td>0</td>\n",
       "      <td>747</td>\n",
       "    </tr>\n",
       "    <tr>\n",
       "      <th>2770</th>\n",
       "      <td>2771</td>\n",
       "      <td>07/06/20</td>\n",
       "      <td>8:00 AM</td>\n",
       "      <td>Uttarakhand</td>\n",
       "      <td>-</td>\n",
       "      <td>-</td>\n",
       "      <td>423</td>\n",
       "      <td>11</td>\n",
       "      <td>1303</td>\n",
       "    </tr>\n",
       "    <tr>\n",
       "      <th>2771</th>\n",
       "      <td>2772</td>\n",
       "      <td>07/06/20</td>\n",
       "      <td>8:00 AM</td>\n",
       "      <td>Uttar Pradesh</td>\n",
       "      <td>-</td>\n",
       "      <td>-</td>\n",
       "      <td>5648</td>\n",
       "      <td>257</td>\n",
       "      <td>9733</td>\n",
       "    </tr>\n",
       "    <tr>\n",
       "      <th>2772</th>\n",
       "      <td>2773</td>\n",
       "      <td>07/06/20</td>\n",
       "      <td>8:00 AM</td>\n",
       "      <td>West Bengal</td>\n",
       "      <td>-</td>\n",
       "      <td>-</td>\n",
       "      <td>3119</td>\n",
       "      <td>383</td>\n",
       "      <td>7738</td>\n",
       "    </tr>\n",
       "    <tr>\n",
       "      <th>2773</th>\n",
       "      <td>2774</td>\n",
       "      <td>07/06/20</td>\n",
       "      <td>8:00 AM</td>\n",
       "      <td>Cases being reassigned to states</td>\n",
       "      <td>-</td>\n",
       "      <td>-</td>\n",
       "      <td>0</td>\n",
       "      <td>0</td>\n",
       "      <td>8605</td>\n",
       "    </tr>\n",
       "  </tbody>\n",
       "</table>\n",
       "</div>"
      ],
      "text/plain": [
       "       Sno      Date     Time              State/UnionTerritory  \\\n",
       "2754  2755  07/06/20  8:00 AM                            Kerala   \n",
       "2755  2756  07/06/20  8:00 AM                            Ladakh   \n",
       "2756  2757  07/06/20  8:00 AM                    Madhya Pradesh   \n",
       "2757  2758  07/06/20  8:00 AM                       Maharashtra   \n",
       "2758  2759  07/06/20  8:00 AM                           Manipur   \n",
       "2759  2760  07/06/20  8:00 AM                         Meghalaya   \n",
       "2760  2761  07/06/20  8:00 AM                           Mizoram   \n",
       "2761  2762  07/06/20  8:00 AM                          Nagaland   \n",
       "2762  2763  07/06/20  8:00 AM                            Odisha   \n",
       "2763  2764  07/06/20  8:00 AM                        Puducherry   \n",
       "2764  2765  07/06/20  8:00 AM                            Punjab   \n",
       "2765  2766  07/06/20  8:00 AM                         Rajasthan   \n",
       "2766  2767  07/06/20  8:00 AM                            Sikkim   \n",
       "2767  2768  07/06/20  8:00 AM                        Tamil Nadu   \n",
       "2768  2769  07/06/20  8:00 AM                         Telengana   \n",
       "2769  2770  07/06/20  8:00 AM                           Tripura   \n",
       "2770  2771  07/06/20  8:00 AM                       Uttarakhand   \n",
       "2771  2772  07/06/20  8:00 AM                     Uttar Pradesh   \n",
       "2772  2773  07/06/20  8:00 AM                       West Bengal   \n",
       "2773  2774  07/06/20  8:00 AM  Cases being reassigned to states   \n",
       "\n",
       "     ConfirmedIndianNational ConfirmedForeignNational  Cured  Deaths  \\\n",
       "2754                       -                        -    762      15   \n",
       "2755                       -                        -     48       1   \n",
       "2756                       -                        -   6108     399   \n",
       "2757                       -                        -  37390    2969   \n",
       "2758                       -                        -     52       0   \n",
       "2759                       -                        -     13       1   \n",
       "2760                       -                        -      1       0   \n",
       "2761                       -                        -      0       0   \n",
       "2762                       -                        -   1716       8   \n",
       "2763                       -                        -     36       0   \n",
       "2764                       -                        -   2092      50   \n",
       "2765                       -                        -   7501     231   \n",
       "2766                       -                        -      0       0   \n",
       "2767                       -                        -  16395     251   \n",
       "2768                       -                        -   1710     123   \n",
       "2769                       -                        -    173       0   \n",
       "2770                       -                        -    423      11   \n",
       "2771                       -                        -   5648     257   \n",
       "2772                       -                        -   3119     383   \n",
       "2773                       -                        -      0       0   \n",
       "\n",
       "      Confirmed  \n",
       "2754       1807  \n",
       "2755         99  \n",
       "2756       9228  \n",
       "2757      82968  \n",
       "2758        157  \n",
       "2759         33  \n",
       "2760         24  \n",
       "2761        107  \n",
       "2762       2781  \n",
       "2763         99  \n",
       "2764       2515  \n",
       "2765      10331  \n",
       "2766          7  \n",
       "2767      30152  \n",
       "2768       3496  \n",
       "2769        747  \n",
       "2770       1303  \n",
       "2771       9733  \n",
       "2772       7738  \n",
       "2773       8605  "
      ]
     },
     "execution_count": 8,
     "metadata": {},
     "output_type": "execute_result"
    }
   ],
   "source": [
    "cases.tail(20)"
   ]
  },
  {
   "cell_type": "code",
   "execution_count": 9,
   "metadata": {},
   "outputs": [
    {
     "data": {
      "text/plain": [
       "Sno                         0\n",
       "Date                        0\n",
       "Time                        0\n",
       "State/UnionTerritory        0\n",
       "ConfirmedIndianNational     0\n",
       "ConfirmedForeignNational    0\n",
       "Cured                       0\n",
       "Deaths                      0\n",
       "Confirmed                   0\n",
       "dtype: int64"
      ]
     },
     "execution_count": 9,
     "metadata": {},
     "output_type": "execute_result"
    }
   ],
   "source": [
    "cases.isna().sum()"
   ]
  },
  {
   "cell_type": "markdown",
   "metadata": {},
   "source": [
    "Try to Plot the curve of daily cases in Maharastra w.r.t Date"
   ]
  },
  {
   "cell_type": "code",
   "execution_count": 10,
   "metadata": {},
   "outputs": [
    {
     "data": {
      "image/png": "[encoded data removed]",
      "text/plain": [
       "<Figure size 432x288 with 1 Axes>"
      ]
     },
     "metadata": {
      "needs_background": "light"
     },
     "output_type": "display_data"
    }
   ],
   "source": [
    "plt.plot(cases[cases[\"State/UnionTerritory\"] == \"Odisha\"].Date,cases[cases[\"State/UnionTerritory\"] == \"Odisha\"].Confirmed );"
   ]
  },
  {
   "cell_type": "markdown",
   "metadata": {},
   "source": [
    "# Graph to see total cases statewise"
   ]
  },
  {
   "cell_type": "code",
   "execution_count": 52,
   "metadata": {},
   "outputs": [
    {
     "data": {
      "image/png": "[encoded data removed]",
      "text/plain": [
       "<Figure size 1440x720 with 1 Axes>"
      ]
     },
     "metadata": {
      "needs_background": "light"
     },
     "output_type": "display_data"
    }
   ],
   "source": [
    "# Create Figure\n",
    "fig, ax = plt.subplots(figsize=(20,10))\n",
    "\n",
    "#add data\n",
    "ax0 = ax.plot(cases[cases[\"State/UnionTerritory\"] == \"West Bengal\"].Date,cases[cases[\"State/UnionTerritory\"] == \"West Bengal\"].Confirmed)\n",
    "\n",
    "#Reducing number of x ticks\n",
    "ax.xaxis.set_major_locator(plt.MaxNLocator(15))\n",
    "\n",
    "# Customize\n",
    "ax.set(title = \"Date wise cases in West Bengal\",\n",
    "       xlabel = \"Date\",\n",
    "       ylabel = \"Total cases\");\n",
    "\n"
   ]
  },
  {
   "cell_type": "markdown",
   "metadata": {},
   "source": [
    "# Graph to see total cases total"
   ]
  },
  {
   "cell_type": "code",
   "execution_count": 21,
   "metadata": {},
   "outputs": [
    {
     "data": {
      "text/plain": [
       "Date\n",
       "01/02/20         2\n",
       "01/03/20         3\n",
       "01/04/20      1834\n",
       "01/05/20     34972\n",
       "01/06/20    190535\n",
       "             ...  \n",
       "30/04/20     33330\n",
       "30/05/20    173763\n",
       "31/01/20         1\n",
       "31/03/20      1397\n",
       "31/05/20    182143\n",
       "Name: Confirmed, Length: 130, dtype: int64"
      ]
     },
     "execution_count": 21,
     "metadata": {},
     "output_type": "execute_result"
    }
   ],
   "source": [
    "cases.groupby([\"Date\"])[\"Confirmed\"].sum()\n"
   ]
  },
  {
   "cell_type": "code",
   "execution_count": 32,
   "metadata": {},
   "outputs": [
    {
     "data": {
      "text/plain": [
       "array(['30/01/20', '31/01/20', '01/02/20', '02/02/20', '03/02/20',\n",
       "       '04/02/20', '05/02/20', '06/02/20', '07/02/20', '08/02/20',\n",
       "       '09/02/20', '10/02/20', '11/02/20', '12/02/20', '13/02/20',\n",
       "       '14/02/20', '15/02/20', '16/02/20', '17/02/20', '18/02/20',\n",
       "       '19/02/20', '20/02/20', '21/02/20', '22/02/20', '23/02/20',\n",
       "       '24/02/20', '25/02/20', '26/02/20', '27/02/20', '28/02/20',\n",
       "       '29/02/20', '01/03/20', '02/03/20', '03/03/20', '04/03/20',\n",
       "       '05/03/20', '06/03/20', '07/03/20', '08/03/20', '09/03/20',\n",
       "       '10/03/20', '11/03/20', '12/03/20', '13/03/20', '14/03/20',\n",
       "       '15/03/20', '16/03/20', '17/03/20', '18/03/20', '19/03/20',\n",
       "       '20/03/20', '21/03/20', '22/03/20', '23/03/20', '24/03/20',\n",
       "       '25/03/20', '26/03/20', '27/03/20', '28/03/20', '29/03/20',\n",
       "       '30/03/20', '31/03/20', '01/04/20', '02/04/20', '03/04/20',\n",
       "       '04/04/20', '05/04/20', '06/04/20', '07/04/20', '08/04/20',\n",
       "       '09/04/20', '10/04/20', '11/04/20', '12/04/20', '13/04/20',\n",
       "       '14/04/20', '15/04/20', '16/04/20', '17/04/20', '18/04/20',\n",
       "       '19/04/20', '20/04/20', '21/04/20', '22/04/20', '23/04/20',\n",
       "       '24/04/20', '25/04/20', '26/04/20', '27/04/20', '28/04/20',\n",
       "       '29/04/20', '30/04/20', '01/05/20', '02/05/20', '03/05/20',\n",
       "       '04/05/20', '05/05/20', '06/05/20', '07/05/20', '08/05/20',\n",
       "       '09/05/20', '10/05/20', '11/05/20', '12/05/20', '13/05/20',\n",
       "       '14/05/20', '15/05/20', '16/05/20', '17/05/20', '18/05/20',\n",
       "       '19/05/20', '20/05/20', '21/05/20', '22/05/20', '23/05/20',\n",
       "       '24/05/20', '25/05/20', '26/05/20', '27/05/20', '28/05/20',\n",
       "       '29/05/20', '30/05/20', '31/05/20', '01/06/20', '02/06/20',\n",
       "       '03/06/20', '04/06/20', '05/06/20', '06/06/20', '07/06/20'],\n",
       "      dtype=object)"
      ]
     },
     "execution_count": 32,
     "metadata": {},
     "output_type": "execute_result"
    }
   ],
   "source": [
    "cases[\"Date\"].unique()"
   ]
  },
  {
   "cell_type": "code",
   "execution_count": 43,
   "metadata": {},
   "outputs": [
    {
     "data": {
      "text/plain": [
       "Date\n",
       "01/02/20         2\n",
       "01/03/20         3\n",
       "01/04/20      1834\n",
       "01/05/20     34972\n",
       "01/06/20    190535\n",
       "             ...  \n",
       "30/04/20     33330\n",
       "30/05/20    173763\n",
       "31/01/20         1\n",
       "31/03/20      1397\n",
       "31/05/20    182143\n",
       "Name: Confirmed, Length: 130, dtype: int64"
      ]
     },
     "execution_count": 43,
     "metadata": {},
     "output_type": "execute_result"
    }
   ],
   "source": [
    "cases.groupby([\"Date\"]).sum().Confirmed\n"
   ]
  },
  {
   "cell_type": "code",
   "execution_count": 47,
   "metadata": {},
   "outputs": [
    {
     "data": {
      "image/png": "[encoded data removed]",
      "text/plain": [
       "<Figure size 1440x720 with 1 Axes>"
      ]
     },
     "metadata": {
      "needs_background": "light"
     },
     "output_type": "display_data"
    }
   ],
   "source": [
    "# Create Figure\n",
    "fig, ax = plt.subplots(figsize=(20,10))\n",
    "\n",
    "#add data\n",
    "ax0 = ax.plot( cases[\"Date\"].unique(), cases.groupby([\"Date\"], sort= False).sum().Confirmed)\n",
    "\n",
    "#Reducing number of x ticks\n",
    "ax.xaxis.set_major_locator(plt.MaxNLocator(10))\n",
    "\n",
    "# Customize\n",
    "ax.set(title = \"Date wise cases in India\",\n",
    "       xlabel = \"Date\",\n",
    "       ylabel = \"Total cases\");\n",
    "\n"
   ]
  },
  {
   "cell_type": "code",
   "execution_count": null,
   "metadata": {},
   "outputs": [],
   "source": []
  }
 ],
 "metadata": {
  "kernelspec": {
   "display_name": "Python 3",
   "language": "python",
   "name": "python3"
  },
  "language_info": {
   "codemirror_mode": {
    "name": "ipython",
    "version": 3
   },
   "file_extension": ".py",
   "mimetype": "text/x-python",
   "name": "python",
   "nbconvert_exporter": "python",
   "pygments_lexer": "ipython3",
   "version": "3.8.1"
  }
 },
 "nbformat": 4,
 "nbformat_minor": 4
}
